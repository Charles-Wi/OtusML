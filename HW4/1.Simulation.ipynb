{
 "cells": [
  {
   "cell_type": "markdown",
   "id": "6ffd4856-b3a8-4f04-ba68-2e50619beb8b",
   "metadata": {},
   "source": [
    "# Create Simulation\n"
   ]
  }
 ],
 "metadata": {
  "kernelspec": {
   "display_name": "Python 3 (ipykernel)",
   "language": "python",
   "name": "python3"
  },
  "language_info": {
   "codemirror_mode": {
    "name": "ipython",
    "version": 3
   },
   "file_extension": ".py",
   "mimetype": "text/x-python",
   "name": "python",
   "nbconvert_exporter": "python",
   "pygments_lexer": "ipython3",
   "version": "3.11.7"
  }
 },
 "nbformat": 4,
 "nbformat_minor": 5
}
