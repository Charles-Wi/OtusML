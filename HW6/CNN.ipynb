{
 "cells": [
  {
   "cell_type": "markdown",
   "metadata": {},
   "source": [
    "# Классификация облаков\n",
    "\n",
    "[Dataset](https://www.kaggle.com/competitions/understanding_cloud_organization/data)\n",
    "\n",
    "Сделаем модель для многоклассовой классификации с пересекающимися классами (на фотографии могут быть облака любых классов в любых сочетаниях). В задаче определены 4 класса: Fish, Flower, Gravel, Sugar. Модель будет выдавать ответ: есть ли один из перечисленных классов на изображении — у модели будет 4 выхода, чтобы показывать наличие каждого класса.\n",
    "\n",
    "Маркированные данные в наборе данных предоставлены только для набора изображений Train_images. Поэтому разделим Train_images на train, validation, test datasets. Метки классов содержатся в файле train.csv ."
   ]
  },
  {
   "cell_type": "code",
   "execution_count": 1,
   "metadata": {},
   "outputs": [],
   "source": [
    "#!pip install pillow\n",
    "#!pip install tensorboard\n",
    "import os\n",
    "import random\n",
    "from PIL import Image, ImageOps\n",
    "import numpy as np\n",
    "import pandas as pd\n",
    "import torch\n",
    "import torch.nn as nn\n",
    "import torch.optim as optim\n",
    "from torch.utils.data import DataLoader, Dataset\n",
    "from torch.utils.data import random_split\n",
    "from torchvision import transforms, datasets\n",
    "import pytorch_lightning as pl\n",
    "from pytorch_lightning.callbacks import EarlyStopping\n",
    "from torchmetrics.classification import MultilabelAccuracy, MultilabelF1Score\n",
    "import torchmetrics.functional\n",
    "import matplotlib.pyplot as plt\n",
    "import matplotlib\n",
    "from tqdm import tqdm\n",
    "import warnings\n",
    "warnings.filterwarnings(\"ignore\")"
   ]
  },
  {
   "cell_type": "code",
   "execution_count": 2,
   "metadata": {},
   "outputs": [],
   "source": [
    "def seed_everything(seed):\n",
    "    random.seed(seed) # Фиксируем генератор случайных чисел\n",
    "    os.environ['PYTHONHASHSEED'] = str(seed) # Фиксируем заполнения хешей\n",
    "    np.random.seed(seed) # Фиксируем генератор случайных чисел numpy\n",
    "    torch.manual_seed(seed) # Фиксируем генератор случайных чисел pytorch\n",
    "    torch.cuda.manual_seed(seed) # Фиксируем генератор случайных чисел для GPU\n",
    "    torch.backends.cudnn.deterministic = True # Выбираем только детерминированные алгоритмы (для сверток)\n",
    "    torch.backends.cudnn.benchmark = False # Фиксируем алгоритм вычисления сверток\n",
    "\n",
    "def drawResultsOfTrain(metric_list):\n",
    "    fig = plt.figure()\n",
    "    ax = fig.add_subplot(111)\n",
    "    ax.plot(metric_list, lw=3)\n",
    "    ax.set_title(\"Training metric by validation dataset\", size=15)\n",
    "    ax.set_xlabel('Iteration', size=15)\n",
    "    ax.tick_params(axis='both', which='major', labelsize=15)\n",
    "    plt.show() "
   ]
  },
  {
   "cell_type": "code",
   "execution_count": 3,
   "metadata": {},
   "outputs": [
    {
     "name": "stdout",
     "output_type": "stream",
     "text": [
      "Threads: 26\n",
      "cuda\n"
     ]
    }
   ],
   "source": [
    "BATCH_SIZE = 64\n",
    "\n",
    "seed_everything(42)\n",
    "\n",
    "NUM_WORKERS = os.cpu_count()\n",
    "torch.set_num_threads(NUM_WORKERS)\n",
    "print('Threads:', torch.get_num_threads())\n",
    "\n",
    "DEVICE = \"cuda\" if torch.cuda.is_available() else \"cpu\"\n",
    "DEVICE_DATA = 'cpu' # Dataset не поместился в доступной памяти GPU, иначе можно было быиспользовать значение =DEVICE\n",
    "torch.set_default_device(DEVICE)\n",
    "print(DEVICE)\n",
    "\n",
    "torch.set_float32_matmul_precision('medium')\n"
   ]
  },
  {
   "cell_type": "markdown",
   "metadata": {},
   "source": [
    "## Предобработка данных\n",
    "\n",
    "\"Your prediction masks should be scaled down to 350 x 525 px.\" — пересохраним набор данных в разрешении 525х350 в подкаталог Train_images_scaled.\n",
    "\n",
    "Нейронная сеть будет принимать на вход изображения данного фиксированного размера."
   ]
  },
  {
   "cell_type": "code",
   "execution_count": 5,
   "metadata": {},
   "outputs": [
    {
     "name": "stderr",
     "output_type": "stream",
     "text": [
      "100%|██████████| 5546/5546 [05:32<00:00, 16.70it/s]\n"
     ]
    }
   ],
   "source": [
    "def rescale_images(path_input, path_output):\n",
    "    for filename in tqdm(os.listdir(path_input)):\n",
    "        if filename.endswith('.jpg'):\n",
    "            # Open the image\n",
    "            img_path = os.path.join(path_input, filename)\n",
    "            img = Image.open(img_path)\n",
    "            \n",
    "            # Resize the image maintaining aspect ratio\n",
    "            resized_img = ImageOps.contain(img, (525, 350))\n",
    "            \n",
    "            # If resized image is smaller than desired size, add black borders\n",
    "            if resized_img.size[0] < 525 or resized_img.size[1] < 350:\n",
    "                new_img = Image.new('RGB', (525, 350), 'black')\n",
    "                x_offset = int((525 - resized_img.width)/2)\n",
    "                y_offset = int((350 - resized_img.height)/2)\n",
    "                new_img.paste(resized_img, (x_offset, y_offset))\n",
    "                resized_img = new_img\n",
    "                \n",
    "            # Save the resized and potentially padded image to the output directory\n",
    "            save_path = os.path.join(path_output, filename)\n",
    "            resized_img.save(save_path, 'JPEG', quality=95)\n",
    "\n",
    "path_input = 'C:\\Temp\\Dataset Clouds\\Train_images'\n",
    "path_output = './Train_images_scaled'\n",
    "rescale_images(path_input, path_output)"
   ]
  },
  {
   "cell_type": "markdown",
   "metadata": {},
   "source": [
    "Преобразуем файл с метками классов train.csv в более удобный для работы вид —  с колонками:\n",
    "- ImageName — имя файла\n",
    "- Fish — бинарный признак наличия класса\n",
    "- Flower — бинарный признак наличия класса\n",
    "- Gravel — бинарный признак наличия класса\n",
    "- Sugar — бинарный признак наличия класса"
   ]
  },
  {
   "cell_type": "code",
   "execution_count": 33,
   "metadata": {},
   "outputs": [
    {
     "name": "stderr",
     "output_type": "stream",
     "text": [
      "22184it [00:01, 12738.87it/s]\n"
     ]
    },
    {
     "data": {
      "text/html": [
       "<div>\n",
       "<style scoped>\n",
       "    .dataframe tbody tr th:only-of-type {\n",
       "        vertical-align: middle;\n",
       "    }\n",
       "\n",
       "    .dataframe tbody tr th {\n",
       "        vertical-align: top;\n",
       "    }\n",
       "\n",
       "    .dataframe thead th {\n",
       "        text-align: right;\n",
       "    }\n",
       "</style>\n",
       "<table border=\"1\" class=\"dataframe\">\n",
       "  <thead>\n",
       "    <tr style=\"text-align: right;\">\n",
       "      <th></th>\n",
       "      <th>ImageName</th>\n",
       "      <th>Fish</th>\n",
       "      <th>Flower</th>\n",
       "      <th>Gravel</th>\n",
       "      <th>Sugar</th>\n",
       "    </tr>\n",
       "  </thead>\n",
       "  <tbody>\n",
       "    <tr>\n",
       "      <th>0</th>\n",
       "      <td>0011165.jpg</td>\n",
       "      <td>1</td>\n",
       "      <td>1</td>\n",
       "      <td>0</td>\n",
       "      <td>0</td>\n",
       "    </tr>\n",
       "    <tr>\n",
       "      <th>1</th>\n",
       "      <td>002be4f.jpg</td>\n",
       "      <td>1</td>\n",
       "      <td>1</td>\n",
       "      <td>0</td>\n",
       "      <td>1</td>\n",
       "    </tr>\n",
       "    <tr>\n",
       "      <th>2</th>\n",
       "      <td>0031ae9.jpg</td>\n",
       "      <td>1</td>\n",
       "      <td>1</td>\n",
       "      <td>0</td>\n",
       "      <td>1</td>\n",
       "    </tr>\n",
       "    <tr>\n",
       "      <th>3</th>\n",
       "      <td>0035239.jpg</td>\n",
       "      <td>0</td>\n",
       "      <td>1</td>\n",
       "      <td>1</td>\n",
       "      <td>0</td>\n",
       "    </tr>\n",
       "    <tr>\n",
       "      <th>4</th>\n",
       "      <td>003994e.jpg</td>\n",
       "      <td>1</td>\n",
       "      <td>0</td>\n",
       "      <td>1</td>\n",
       "      <td>1</td>\n",
       "    </tr>\n",
       "  </tbody>\n",
       "</table>\n",
       "</div>"
      ],
      "text/plain": [
       "     ImageName Fish Flower Gravel Sugar\n",
       "0  0011165.jpg    1      1      0     0\n",
       "1  002be4f.jpg    1      1      0     1\n",
       "2  0031ae9.jpg    1      1      0     1\n",
       "3  0035239.jpg    0      1      1     0\n",
       "4  003994e.jpg    1      0      1     1"
      ]
     },
     "execution_count": 33,
     "metadata": {},
     "output_type": "execute_result"
    }
   ],
   "source": [
    "train_csv = pd.read_csv('train.csv')\n",
    "label_csv = pd.DataFrame(columns=['ImageName', 'Fish', 'Flower', 'Gravel', 'Sugar'])\n",
    "\n",
    "def getInitialyzedClasses():\n",
    "    return {'Fish': 0, 'Flower': 0, 'Gravel': 0, 'Sugar': 0}\n",
    "\n",
    "imageNameCurrent = ''\n",
    "classes = getInitialyzedClasses()\n",
    "for record in tqdm(train_csv.itertuples()):\n",
    "    if not pd.isnull(record.EncodedPixels):\n",
    "        imageName, className = record.Image_Label.split('_')\n",
    "\n",
    "        if imageNameCurrent == '':\n",
    "            imageNameCurrent = imageName\n",
    "\n",
    "        if imageName != imageNameCurrent:\n",
    "            new_row = {'ImageName': imageNameCurrent,\n",
    "                        'Fish': classes['Fish'],\n",
    "                        'Flower': classes['Flower'],\n",
    "                        'Gravel': classes['Gravel'],\n",
    "                        'Sugar': classes['Sugar']}\n",
    "        \n",
    "            label_csv = pd.concat([label_csv, pd.DataFrame([new_row])], ignore_index=True)\n",
    "\n",
    "            classes = getInitialyzedClasses()\n",
    "            imageNameCurrent = imageName\n",
    "\n",
    "        classes[className] = 1\n",
    "\n",
    "label_csv.to_csv('labels.csv', index=False)\n",
    "label_csv.head()"
   ]
  },
  {
   "cell_type": "markdown",
   "metadata": {},
   "source": [
    "## Загрузим данные\n",
    "\n",
    "Dataset помещается в ОЗУ 64 Гб, поэтому загрузим сразу все данные в ОЗУ для ускорения работы."
   ]
  },
  {
   "cell_type": "code",
   "execution_count": 4,
   "metadata": {},
   "outputs": [],
   "source": [
    "class CloudsDataset(Dataset):\n",
    "    def __init__(self, data_path, label_csv_path):\n",
    "        self._data = []\n",
    "        voc_labels = {}\n",
    "        transform = transforms.Compose([transforms.ToTensor()])\n",
    "\n",
    "        label_csv = pd.read_csv(label_csv_path)\n",
    "        for record in label_csv.itertuples():\n",
    "            voc_labels[record.ImageName] = (record.Fish, record.Flower, record.Gravel, record.Sugar)\n",
    "\n",
    "        for image_name, labels in voc_labels.items():\n",
    "            img = Image.open(os.path.join(data_path, image_name))\n",
    "            img = img.convert('RGB')\n",
    "            self._data.append((transform(img).to(DEVICE_DATA), \n",
    "                               torch.tensor(labels, dtype=torch.float32).to(DEVICE_DATA)))\n",
    "\n",
    "    def __getitem__(self, index):\n",
    "        return self._data[index]\n",
    "    \n",
    "    def __len__(self):\n",
    "        return len(self._data)"
   ]
  },
  {
   "cell_type": "code",
   "execution_count": 5,
   "metadata": {},
   "outputs": [],
   "source": [
    "class CloudsDataModule(pl.LightningDataModule):\n",
    "    def __init__(self, data_path=r'./Train_images_scaled', label_csv_path=r'labels.csv'):\n",
    "        super().__init__()\n",
    "        self.data_path = data_path\n",
    "        self.labels_path = label_csv_path\n",
    "\n",
    "    def prepare_data(self):\n",
    "        self.dataset = CloudsDataset(self.data_path, self.labels_path)\n",
    "        print('Загружены данные, объектов: ', len(self.dataset))\n",
    "\n",
    "    def setup(self, stage=None):\n",
    "        self.train, self.val, self.test = random_split(self.dataset, \n",
    "                                                       [0.7, 0.15, 0.15],\n",
    "                                                       generator = torch.Generator(device=DEVICE).manual_seed(0)\n",
    "                                                       )\n",
    "        print('Загруженные данные разделены на наборы данных train:', len(self.train), \n",
    "              '; validation:', len(self.val),\n",
    "              ';test:', len(self.test))\n",
    "    def train_dataloader(self):\n",
    "        return DataLoader(self.train, batch_size=BATCH_SIZE) # нельзя задать num_workers, вызывает ошибку\n",
    "    \n",
    "    def val_dataloader(self):\n",
    "        return DataLoader(self.val, batch_size=BATCH_SIZE)\n",
    "    \n",
    "    def test_dataloader(self):\n",
    "        return DataLoader(self.test, batch_size=BATCH_SIZE)"
   ]
  },
  {
   "cell_type": "markdown",
   "metadata": {},
   "source": [
    "## Создаём сеть"
   ]
  },
  {
   "cell_type": "code",
   "execution_count": 6,
   "metadata": {},
   "outputs": [],
   "source": [
    "class CNNClassifier(pl.LightningModule):\n",
    "    def __init__(self, image_shape=(3, 525, 350)):\n",
    "        super().__init__()\n",
    "        self.training_step_outputs = []\n",
    "\n",
    "        self.train_acc = MultilabelAccuracy(4) # MultilabelF1Score(num_labels=4, average='macro')\n",
    "        self.valid_acc = MultilabelAccuracy(4) # MultilabelF1Score(num_labels=4, average='macro')\n",
    "        self.test_acc = MultilabelF1Score(num_labels=4, average='macro')\n",
    "\n",
    "        self.valid_metric = []\n",
    "\n",
    "        all_layers = [nn.Conv2d(in_channels=3, out_channels=1, kernel_size=1), # в монохромное\n",
    "                      nn.ReLU(),\n",
    "                      nn.Conv2d(in_channels=1, out_channels=128, kernel_size=3, padding=1), # CNN 1\n",
    "                      nn.ReLU(),\n",
    "                      nn.MaxPool2d(kernel_size=5, stride=5), # to size: (105, 70)\n",
    "                      nn.Conv2d(in_channels=128, out_channels=32, kernel_size=3, padding=1), # CNN 2\n",
    "                      nn.ReLU(),\n",
    "                      nn.MaxPool2d(kernel_size=5, stride=5), # to size: (21, 14)\n",
    "                      nn.Conv2d(in_channels=32, out_channels=8, kernel_size=3, padding=1), # CNN 3\n",
    "                      nn.ReLU(),\n",
    "                      nn.MaxPool2d(kernel_size=7, stride=7), # to size: (3, 2)\n",
    "                      nn.Flatten(), \n",
    "                      nn.Linear(48, 16), # FNN\n",
    "                      nn.Tanh(),\n",
    "                      nn.Dropout(0.1),\n",
    "                      nn.Linear(16, 4),\n",
    "                      nn.Sigmoid()\n",
    "                      ]\n",
    "\n",
    "        self.model = nn.Sequential(*all_layers)\n",
    "        self.loss_fn = nn.BCEWithLogitsLoss() ##nn.MultiLabelSoftMarginLoss()\n",
    "        for m in self.modules():\n",
    "            if isinstance(m, nn.Linear):\n",
    "                nn.init.xavier_uniform_(m.weight)\n",
    "                nn.init.constant_(m.bias, 0)\n",
    "\n",
    "    def forward(self, x):\n",
    "        y = self.model(x)\n",
    "        return y\n",
    "    \n",
    "    def training_step(self, batch, batch_idx):\n",
    "        x, y = batch\n",
    "        y_preds = self(x)\n",
    "        loss = self.loss_fn(y_preds, y)\n",
    "        self.training_step_outputs.append(loss)\n",
    "        self.train_acc.update(y_preds, y)\n",
    "        self.log(\"train_loss\", loss, prog_bar=True)\n",
    "        return loss\n",
    "    \n",
    "    def on_train_epoch_end(self):\n",
    "        epoch_average = torch.stack(self.training_step_outputs).mean()\n",
    "        self.log(\"training_epoch_average\", epoch_average)\n",
    "        self.training_step_outputs.clear()  # free memory\n",
    "\n",
    "    def validation_step(self, batch, batch_idx):\n",
    "        x, y = batch\n",
    "        y_preds = self(x)\n",
    "        loss = self.loss_fn(y_preds, y)\n",
    "        self.valid_acc.update(y_preds, y)\n",
    "        self.log('valid_loss', loss, prog_bar=True)\n",
    "        current_valid_acc = self.valid_acc.compute()\n",
    "        self.log('valid_acc', current_valid_acc, prog_bar=True)\n",
    "        self.valid_metric.append(current_valid_acc.to('cpu').item())\n",
    "        return loss\n",
    "    \n",
    "    def test_step(self, batch, batch_idx):\n",
    "        x, y = batch\n",
    "        y_preds = self(x)\n",
    "        loss = self.loss_fn(y_preds, y)\n",
    "        self.test_acc.update(y_preds, y)\n",
    "        self.log('test_loss', loss, prog_bar=True)\n",
    "        self.log('test_acc', self.test_acc.compute(), prog_bar=True)\n",
    "        return loss\n",
    "    \n",
    "    def configure_optimizers(self):\n",
    "        optimizer = torch.optim.Adam(self.parameters(), lr=0.01, weight_decay=1e-5) # with L2 regularization\n",
    "        return optimizer"
   ]
  },
  {
   "cell_type": "markdown",
   "metadata": {},
   "source": [
    "## Тренируем модель"
   ]
  },
  {
   "cell_type": "code",
   "execution_count": 7,
   "metadata": {},
   "outputs": [
    {
     "name": "stderr",
     "output_type": "stream",
     "text": [
      "GPU available: True (cuda), used: True\n",
      "TPU available: False, using: 0 TPU cores\n",
      "HPU available: False, using: 0 HPUs\n",
      "LOCAL_RANK: 0 - CUDA_VISIBLE_DEVICES: [0]\n"
     ]
    },
    {
     "name": "stdout",
     "output_type": "stream",
     "text": [
      "Загружены данные, объектов:  5545\n",
      "Загруженные данные разделены на наборы данных train: 3882 ; validation: 832 ;test: 831\n"
     ]
    },
    {
     "name": "stderr",
     "output_type": "stream",
     "text": [
      "\n",
      "  | Name      | Type               | Params | Mode \n",
      "---------------------------------------------------------\n",
      "0 | train_acc | MultilabelAccuracy | 0      | train\n",
      "1 | valid_acc | MultilabelAccuracy | 0      | train\n",
      "2 | test_acc  | MultilabelF1Score  | 0      | train\n",
      "3 | model     | Sequential         | 41.3 K | train\n",
      "4 | loss_fn   | BCEWithLogitsLoss  | 0      | train\n",
      "---------------------------------------------------------\n",
      "41.3 K    Trainable params\n",
      "0         Non-trainable params\n",
      "41.3 K    Total params\n",
      "0.165     Total estimated model params size (MB)\n",
      "22        Modules in train mode\n",
      "0         Modules in eval mode\n"
     ]
    },
    {
     "data": {
      "application/vnd.jupyter.widget-view+json": {
       "model_id": "160584a66239452088d58d1a73c337c5",
       "version_major": 2,
       "version_minor": 0
      },
      "text/plain": [
       "Sanity Checking: |          | 0/? [00:00<?, ?it/s]"
      ]
     },
     "metadata": {},
     "output_type": "display_data"
    },
    {
     "data": {
      "application/vnd.jupyter.widget-view+json": {
       "model_id": "f7e49c6f99254fe2b7acecd1b3434d57",
       "version_major": 2,
       "version_minor": 0
      },
      "text/plain": [
       "Training: |          | 0/? [00:00<?, ?it/s]"
      ]
     },
     "metadata": {},
     "output_type": "display_data"
    },
    {
     "data": {
      "application/vnd.jupyter.widget-view+json": {
       "model_id": "6b595230f50048e993341286c1b8b7c1",
       "version_major": 2,
       "version_minor": 0
      },
      "text/plain": [
       "Validation: |          | 0/? [00:00<?, ?it/s]"
      ]
     },
     "metadata": {},
     "output_type": "display_data"
    },
    {
     "data": {
      "application/vnd.jupyter.widget-view+json": {
       "model_id": "cbd43c99fa374b78b40a78c27abaaec9",
       "version_major": 2,
       "version_minor": 0
      },
      "text/plain": [
       "Validation: |          | 0/? [00:00<?, ?it/s]"
      ]
     },
     "metadata": {},
     "output_type": "display_data"
    },
    {
     "data": {
      "application/vnd.jupyter.widget-view+json": {
       "model_id": "b11cabd7b699426987c18c11d7efbde7",
       "version_major": 2,
       "version_minor": 0
      },
      "text/plain": [
       "Validation: |          | 0/? [00:00<?, ?it/s]"
      ]
     },
     "metadata": {},
     "output_type": "display_data"
    },
    {
     "data": {
      "application/vnd.jupyter.widget-view+json": {
       "model_id": "3191d8752a0b4ae78cdae2acbbd9afdf",
       "version_major": 2,
       "version_minor": 0
      },
      "text/plain": [
       "Validation: |          | 0/? [00:00<?, ?it/s]"
      ]
     },
     "metadata": {},
     "output_type": "display_data"
    },
    {
     "data": {
      "application/vnd.jupyter.widget-view+json": {
       "model_id": "db5b06812a204eed88ed6cc7f1e7aa92",
       "version_major": 2,
       "version_minor": 0
      },
      "text/plain": [
       "Validation: |          | 0/? [00:00<?, ?it/s]"
      ]
     },
     "metadata": {},
     "output_type": "display_data"
    },
    {
     "data": {
      "application/vnd.jupyter.widget-view+json": {
       "model_id": "158775bf05bc47b283e418271cb37e01",
       "version_major": 2,
       "version_minor": 0
      },
      "text/plain": [
       "Validation: |          | 0/? [00:00<?, ?it/s]"
      ]
     },
     "metadata": {},
     "output_type": "display_data"
    }
   ],
   "source": [
    "epochs = 40\n",
    "\n",
    "model = CNNClassifier().to(DEVICE)\n",
    "\n",
    "early_stopping = EarlyStopping('valid_loss', min_delta=0.05, patience=5)\n",
    "\n",
    "if DEVICE == 'cuda':\n",
    "    trainer = pl.Trainer(max_epochs=epochs, callbacks=[early_stopping], gradient_clip_val=0.5,\n",
    "                         accelerator=\"gpu\", devices=1, strategy=\"auto\")\n",
    "else:\n",
    "    trainer = pl.Trainer(max_epochs=epochs, callbacks=[early_stopping], gradient_clip_val=0.5)\n",
    "\n",
    "clouds_dm = CloudsDataModule('Train_images_scaled', 'labels.csv')\n",
    "trainer.fit(model=model, datamodule=clouds_dm)\n"
   ]
  },
  {
   "cell_type": "code",
   "execution_count": 8,
   "metadata": {},
   "outputs": [
    {
     "data": {
      "image/png": "[encoded data removed]",
      "text/plain": [
       "<Figure size 640x480 with 1 Axes>"
      ]
     },
     "metadata": {},
     "output_type": "display_data"
    }
   ],
   "source": [
    "drawResultsOfTrain(model.valid_metric)"
   ]
  },
  {
   "cell_type": "code",
   "execution_count": 9,
   "metadata": {},
   "outputs": [
    {
     "name": "stderr",
     "output_type": "stream",
     "text": [
      "LOCAL_RANK: 0 - CUDA_VISIBLE_DEVICES: [0]\n"
     ]
    },
    {
     "name": "stdout",
     "output_type": "stream",
     "text": [
      "Загружены данные, объектов:  5545\n",
      "Загруженные данные разделены на наборы данных train: 3882 ; validation: 832 ;test: 831\n"
     ]
    },
    {
     "data": {
      "application/vnd.jupyter.widget-view+json": {
       "model_id": "4059b0a755be4af9b0edd25531a03351",
       "version_major": 2,
       "version_minor": 0
      },
      "text/plain": [
       "Validation: |          | 0/? [00:00<?, ?it/s]"
      ]
     },
     "metadata": {},
     "output_type": "display_data"
    },
    {
     "data": {
      "text/html": [
       "<pre style=\"white-space:pre;overflow-x:auto;line-height:normal;font-family:Menlo,'DejaVu Sans Mono',consolas,'Courier New',monospace\">┏━━━━━━━━━━━━━━━━━━━━━━━━━━━┳━━━━━━━━━━━━━━━━━━━━━━━━━━━┓\n",
       "┃<span style=\"font-weight: bold\">      Validate metric      </span>┃<span style=\"font-weight: bold\">       DataLoader 0        </span>┃\n",
       "┡━━━━━━━━━━━━━━━━━━━━━━━━━━━╇━━━━━━━━━━━━━━━━━━━━━━━━━━━┩\n",
       "│<span style=\"color: #008080; text-decoration-color: #008080\">         valid_acc         </span>│<span style=\"color: #800080; text-decoration-color: #800080\">    0.5409902930259705     </span>│\n",
       "│<span style=\"color: #008080; text-decoration-color: #008080\">        valid_loss         </span>│<span style=\"color: #800080; text-decoration-color: #800080\">     0.673613429069519     </span>│\n",
       "└───────────────────────────┴───────────────────────────┘\n",
       "</pre>\n"
      ],
      "text/plain": [
       "┏━━━━━━━━━━━━━━━━━━━━━━━━━━━┳━━━━━━━━━━━━━━━━━━━━━━━━━━━┓\n",
       "┃\u001b[1m \u001b[0m\u001b[1m     Validate metric     \u001b[0m\u001b[1m \u001b[0m┃\u001b[1m \u001b[0m\u001b[1m      DataLoader 0       \u001b[0m\u001b[1m \u001b[0m┃\n",
       "┡━━━━━━━━━━━━━━━━━━━━━━━━━━━╇━━━━━━━━━━━━━━━━━━━━━━━━━━━┩\n",
       "│\u001b[36m \u001b[0m\u001b[36m        valid_acc        \u001b[0m\u001b[36m \u001b[0m│\u001b[35m \u001b[0m\u001b[35m   0.5409902930259705    \u001b[0m\u001b[35m \u001b[0m│\n",
       "│\u001b[36m \u001b[0m\u001b[36m       valid_loss        \u001b[0m\u001b[36m \u001b[0m│\u001b[35m \u001b[0m\u001b[35m    0.673613429069519    \u001b[0m\u001b[35m \u001b[0m│\n",
       "└───────────────────────────┴───────────────────────────┘\n"
      ]
     },
     "metadata": {},
     "output_type": "display_data"
    },
    {
     "data": {
      "text/plain": [
       "[{'valid_loss': 0.673613429069519, 'valid_acc': 0.5409902930259705}]"
      ]
     },
     "execution_count": 9,
     "metadata": {},
     "output_type": "execute_result"
    }
   ],
   "source": [
    "trainer.validate(model=model, datamodule=clouds_dm)"
   ]
  },
  {
   "cell_type": "markdown",
   "metadata": {},
   "source": [
    "В tensorboard:\n",
    "- version_0 — без gradient clipping\n",
    "- version_1 — с gradient clipping\n",
    "- version_2 — с gradient clipping, тестовая метрика Dice (F1)"
   ]
  },
  {
   "cell_type": "code",
   "execution_count": 145,
   "metadata": {},
   "outputs": [
    {
     "data": {
      "text/plain": [
       "Reusing TensorBoard on port 6008 (pid 16016), started 2 days, 0:38:29 ago. (Use '!kill 16016' to kill it.)"
      ]
     },
     "metadata": {},
     "output_type": "display_data"
    },
    {
     "data": {
      "text/html": [
       "\n",
       "      <iframe id=\"tensorboard-frame-1c80317fa3b1799d\" width=\"100%\" height=\"800\" frameborder=\"0\">\n",
       "      </iframe>\n",
       "      <script>\n",
       "        (function() {\n",
       "          const frame = document.getElementById(\"tensorboard-frame-1c80317fa3b1799d\");\n",
       "          const url = new URL(\"http://localhost\");\n",
       "          const port = 6008;\n",
       "          if (port) {\n",
       "            url.port = port;\n",
       "          }\n",
       "          frame.src = url;\n",
       "        })();\n",
       "      </script>\n",
       "    "
      ],
      "text/plain": [
       "<IPython.core.display.HTML object>"
      ]
     },
     "metadata": {},
     "output_type": "display_data"
    }
   ],
   "source": [
    "%load_ext tensorboard\n",
    "%tensorboard --logdir lightning_logs"
   ]
  },
  {
   "cell_type": "markdown",
   "metadata": {},
   "source": [
    "## Финальный тест:"
   ]
  },
  {
   "cell_type": "code",
   "execution_count": 10,
   "metadata": {},
   "outputs": [
    {
     "name": "stdout",
     "output_type": "stream",
     "text": [
      "Контроль технической корректности работы модели\n",
      "expected labels:\t tensor([1., 1., 0., 1.])\n",
      "predicted labels:\t tensor([[0.0077, 0.0008, 0.0961, 0.7920]], device='cuda:0')\n"
     ]
    }
   ],
   "source": [
    "print('Контроль технической корректности работы модели')\n",
    "obj = clouds_dm.test_dataloader().dataset[0][0].to(DEVICE)\n",
    "obj = obj.unsqueeze(0)\n",
    "print('expected labels:\\t', clouds_dm.test_dataloader().dataset[0][1])\n",
    "model.eval()\n",
    "model.to(DEVICE)\n",
    "with torch.no_grad():\n",
    "    print('predicted labels:\\t', model(obj))"
   ]
  },
  {
   "cell_type": "code",
   "execution_count": 11,
   "metadata": {},
   "outputs": [
    {
     "name": "stderr",
     "output_type": "stream",
     "text": [
      "LOCAL_RANK: 0 - CUDA_VISIBLE_DEVICES: [0]\n"
     ]
    },
    {
     "name": "stdout",
     "output_type": "stream",
     "text": [
      "Загружены данные, объектов:  5545\n",
      "Загруженные данные разделены на наборы данных train: 3882 ; validation: 832 ;test: 831\n"
     ]
    },
    {
     "data": {
      "application/vnd.jupyter.widget-view+json": {
       "model_id": "a31b64bf591d474db6923f643d1f7d39",
       "version_major": 2,
       "version_minor": 0
      },
      "text/plain": [
       "Testing: |          | 0/? [00:00<?, ?it/s]"
      ]
     },
     "metadata": {},
     "output_type": "display_data"
    },
    {
     "data": {
      "text/html": [
       "<pre style=\"white-space:pre;overflow-x:auto;line-height:normal;font-family:Menlo,'DejaVu Sans Mono',consolas,'Courier New',monospace\">┏━━━━━━━━━━━━━━━━━━━━━━━━━━━┳━━━━━━━━━━━━━━━━━━━━━━━━━━━┓\n",
       "┃<span style=\"font-weight: bold\">        Test metric        </span>┃<span style=\"font-weight: bold\">       DataLoader 0        </span>┃\n",
       "┡━━━━━━━━━━━━━━━━━━━━━━━━━━━╇━━━━━━━━━━━━━━━━━━━━━━━━━━━┩\n",
       "│<span style=\"color: #008080; text-decoration-color: #008080\">         test_acc          </span>│<span style=\"color: #800080; text-decoration-color: #800080\">    0.2054155468940735     </span>│\n",
       "│<span style=\"color: #008080; text-decoration-color: #008080\">         test_loss         </span>│<span style=\"color: #800080; text-decoration-color: #800080\">    0.6752669811248779     </span>│\n",
       "└───────────────────────────┴───────────────────────────┘\n",
       "</pre>\n"
      ],
      "text/plain": [
       "┏━━━━━━━━━━━━━━━━━━━━━━━━━━━┳━━━━━━━━━━━━━━━━━━━━━━━━━━━┓\n",
       "┃\u001b[1m \u001b[0m\u001b[1m       Test metric       \u001b[0m\u001b[1m \u001b[0m┃\u001b[1m \u001b[0m\u001b[1m      DataLoader 0       \u001b[0m\u001b[1m \u001b[0m┃\n",
       "┡━━━━━━━━━━━━━━━━━━━━━━━━━━━╇━━━━━━━━━━━━━━━━━━━━━━━━━━━┩\n",
       "│\u001b[36m \u001b[0m\u001b[36m        test_acc         \u001b[0m\u001b[36m \u001b[0m│\u001b[35m \u001b[0m\u001b[35m   0.2054155468940735    \u001b[0m\u001b[35m \u001b[0m│\n",
       "│\u001b[36m \u001b[0m\u001b[36m        test_loss        \u001b[0m\u001b[36m \u001b[0m│\u001b[35m \u001b[0m\u001b[35m   0.6752669811248779    \u001b[0m\u001b[35m \u001b[0m│\n",
       "└───────────────────────────┴───────────────────────────┘\n"
      ]
     },
     "metadata": {},
     "output_type": "display_data"
    },
    {
     "data": {
      "text/plain": [
       "[{'test_loss': 0.6752669811248779, 'test_acc': 0.2054155468940735}]"
      ]
     },
     "execution_count": 11,
     "metadata": {},
     "output_type": "execute_result"
    }
   ],
   "source": [
    "trainer.test(model=model, datamodule=clouds_dm)"
   ]
  }
 ],
 "metadata": {
  "kernelspec": {
   "display_name": "base",
   "language": "python",
   "name": "python3"
  },
  "language_info": {
   "codemirror_mode": {
    "name": "ipython",
    "version": 3
   },
   "file_extension": ".py",
   "mimetype": "text/x-python",
   "name": "python",
   "nbconvert_exporter": "python",
   "pygments_lexer": "ipython3",
   "version": "3.12.4"
  }
 },
 "nbformat": 4,
 "nbformat_minor": 4
}
