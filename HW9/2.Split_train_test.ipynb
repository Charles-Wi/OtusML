{
 "cells": [
  {
   "cell_type": "markdown",
   "metadata": {},
   "source": [
    "# Подготовка train поднабора данных\n",
    "\n",
    "Отделим последние 7 дней из предобработанного набора данных `Metro_Interstate_Traffic_Volume_interpolated.csv` в тестовый поднабор данных: `Metro_Interstate_Traffic_Volume_interpolated_test.csv`.\n"
   ]
  },
  {
   "cell_type": "code",
   "execution_count": 1,
   "metadata": {},
   "outputs": [],
   "source": [
    "%load_ext pycodestyle_magic\n",
    "%pycodestyle_on"
   ]
  },
  {
   "cell_type": "code",
   "execution_count": 2,
   "metadata": {},
   "outputs": [],
   "source": [
    "import warnings\n",
    "\n",
    "import pandas as pd\n",
    "\n",
    "warnings.filterwarnings(\"ignore\")"
   ]
  },
  {
   "cell_type": "code",
   "execution_count": 9,
   "metadata": {},
   "outputs": [],
   "source": [
    "df = pd.read_csv(r'.\\Metro_Interstate_Traffic_Volume_interpolated.csv')\n",
    "df['date_time'] = pd.to_datetime(df['date_time'])\n",
    "df.loc[df[\"holiday\"].isnull(), \"holiday\"] = \"None\""
   ]
  },
  {
   "cell_type": "code",
   "execution_count": 11,
   "metadata": {},
   "outputs": [
    {
     "name": "stdout",
     "output_type": "stream",
     "text": [
      "Maximum date_time: 2018-09-30 23:00:00\n"
     ]
    }
   ],
   "source": [
    "max_date = df['date_time'].max()\n",
    "days_7_before_max_date = max_date - pd.Timedelta(days=14)\n",
    "\n",
    "print(f\"Maximum date_time: {max_date}\")\n",
    "\n",
    "df_train = df.query(f\"date_time < '{days_7_before_max_date}'\")\n",
    "df_test = df.query(f\"date_time >= '{days_7_before_max_date}'\")\n",
    "\n",
    "df_train.to_csv(\"Metro_Interstate_Traffic_Volume_train.csv\", index=False)\n",
    "df_test.to_csv(\"Metro_Interstate_Traffic_Volume_test.csv\", index=False)"
   ]
  },
  {
   "cell_type": "markdown",
   "metadata": {},
   "source": [
    "Тренировочный и тестовый наборы данных сохранили в файлы:\n",
    "- Metro_Interstate_Traffic_Volume_train.csv\n",
    "- Metro_Interstate_Traffic_Volume_test.csv\n",
    "\n",
    "Теперь можно переходить к моделированию."
   ]
  }
 ],
 "metadata": {
  "kernelspec": {
   "display_name": "base",
   "language": "python",
   "name": "python3"
  },
  "language_info": {
   "codemirror_mode": {
    "name": "ipython",
    "version": 3
   },
   "file_extension": ".py",
   "mimetype": "text/x-python",
   "name": "python",
   "nbconvert_exporter": "python",
   "pygments_lexer": "ipython3",
   "version": "3.12.4"
  }
 },
 "nbformat": 4,
 "nbformat_minor": 2
}
