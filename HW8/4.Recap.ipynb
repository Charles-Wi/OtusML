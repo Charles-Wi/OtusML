{
 "cells": [
  {
   "cell_type": "markdown",
   "metadata": {},
   "source": [
    "# Выводы\n",
    "\n",
    "Сравним результаты по выбранной метрике: коэффициент корреляции Мэтьюса (MCC).\n",
    "\n",
    "Список в формате «Модель:  MCC».\n",
    "- RuBert-base: 0.390\n",
    "- RuGPT3large_based_on_GPT2: 0.072\n",
    "- RuT5-base:  0.328\n",
    "\n",
    "На задаче бинарной классификации текста со сложным анализом (на правильность предложений по правилам русского языка) лучше всего результат с трансформерной моделью типа Encoder: RuBert."
   ]
  },
  {
   "cell_type": "markdown",
   "metadata": {},
   "source": []
  }
 ],
 "metadata": {
  "language_info": {
   "name": "python"
  }
 },
 "nbformat": 4,
 "nbformat_minor": 2
}
