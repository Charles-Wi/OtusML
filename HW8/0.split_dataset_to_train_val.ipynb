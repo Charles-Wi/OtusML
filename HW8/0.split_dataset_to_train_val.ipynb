{
 "cells": [
  {
   "cell_type": "markdown",
   "metadata": {},
   "source": [
    "# Разбейте in_domain_train на train и val\n",
    "\n",
    "Мы использовали набор данных [RuCola](https://github.com/RussianNLP/RuCoLA)"
   ]
  },
  {
   "cell_type": "code",
   "execution_count": 1,
   "metadata": {},
   "outputs": [],
   "source": [
    "import pandas as pd\n",
    "from sklearn.model_selection import train_test_split"
   ]
  },
  {
   "cell_type": "code",
   "execution_count": 3,
   "metadata": {},
   "outputs": [
    {
     "name": "stdout",
     "output_type": "stream",
     "text": [
      "train: 6924\n",
      "validation: 945\n"
     ]
    }
   ],
   "source": [
    "def get_appropriate_columns(df):\n",
    "    return df[['sentence', 'acceptable']]\n",
    "\n",
    "\n",
    "df = get_appropriate_columns(pd.read_csv(r'in_domain_train.csv'))\n",
    "\n",
    "df_train, df_val = train_test_split(\n",
    "    df,\n",
    "    test_size=0.12,\n",
    "    stratify=df['acceptable'],\n",
    "    random_state=1)\n",
    "\n",
    "print('train:', len(df_train))\n",
    "#print(df_train.head())\n",
    "print('validation:', len(df_val))\n",
    "#print(df_val.head())\n",
    "\n",
    "df_train.to_csv('in_domain_train_subset.csv', index=False)\n",
    "df_val.to_csv('in_domain_validation_subset.csv', index=False)"
   ]
  },
  {
   "cell_type": "code",
   "execution_count": 5,
   "metadata": {},
   "outputs": [],
   "source": [
    "df = get_appropriate_columns(pd.read_csv(r'in_domain_dev.csv'))\n",
    "df.to_csv('in_domain_test.csv', index=False)"
   ]
  },
  {
   "cell_type": "markdown",
   "metadata": {},
   "source": [
    "Мы разбили файл in_domain_train.csv на:\n",
    "- тренировочный набор данных in_domain_train_subset.csv;\n",
    "- валидационный набор данных in_domain_validation_subset.csv.\n",
    "\n",
    "В результирующих файлах сохранены только колонки sentence (текст) и acceptable (метка).\n",
    "(Также, пересохранили in_domain_dev.csv в in_domain_test.csv.)"
   ]
  }
 ],
 "metadata": {
  "kernelspec": {
   "display_name": "base",
   "language": "python",
   "name": "python3"
  },
  "language_info": {
   "codemirror_mode": {
    "name": "ipython",
    "version": 3
   },
   "file_extension": ".py",
   "mimetype": "text/x-python",
   "name": "python",
   "nbconvert_exporter": "python",
   "pygments_lexer": "ipython3",
   "version": "3.12.4"
  }
 },
 "nbformat": 4,
 "nbformat_minor": 2
}
