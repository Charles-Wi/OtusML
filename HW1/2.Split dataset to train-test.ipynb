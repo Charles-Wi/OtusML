{
 "cells": [
  {
   "cell_type": "markdown",
   "id": "32968890-fafd-477d-b090-baef13276871",
   "metadata": {},
   "source": [
    "# Часть 2. Preprocessing & Feature Engineering — разбейте данные на train-testabs\n",
    "\n",
    "EDA и предобработка данных была сделана в рамках notebook 1.EDA.ipynb (+ файлы в подкаталоге 1.EDA).\n",
    "Теперь мы готовы разбить предобработанный массив данных на тренировочную и тестовую выборки.\n",
    "Сделаем разбиение Hold Out со стратификацией по целевому признаку."
   ]
  },
  {
   "cell_type": "code",
   "execution_count": 1,
   "id": "477abf0a-2ebe-47e5-ac62-0f73c99df635",
   "metadata": {},
   "outputs": [],
   "source": [
    "import pandas as pd\n",
    "from sklearn.model_selection import train_test_split\n",
    "\n",
    "df = pd.read_csv(r'.\\1.EDA\\6.ResultsPreparedDataSet\\WA_Fn-UseC_-Telco-Customer-Churn-prepared.csv')\n",
    "\n",
    "X_train, X_test, y_train, y_test = train_test_split(\n",
    "    df.drop('Churn', axis=1),\n",
    "    df['Churn'],\n",
    "    test_size=0.2,\n",
    "    stratify=df['Churn'],\n",
    "    random_state=1)\n",
    "\n",
    "# Save training set\n",
    "train_data = pd.concat([X_train, y_train], axis=1)\n",
    "train_data.to_csv(r'.\\2.Split dataset to train-test\\train.csv', index=False)\n",
    "\n",
    "# Save testing set\n",
    "test_data = pd.concat([X_test, y_test], axis=1)\n",
    "test_data.to_csv(r'.\\2.Split dataset to train-test\\test.csv', index=False)"
   ]
  },
  {
   "cell_type": "code",
   "execution_count": null,
   "id": "1925450b-7e24-48fe-b2ac-343c8f45db68",
   "metadata": {},
   "outputs": [],
   "source": []
  }
 ],
 "metadata": {
  "kernelspec": {
   "display_name": "Python 3 (ipykernel)",
   "language": "python",
   "name": "python3"
  },
  "language_info": {
   "codemirror_mode": {
    "name": "ipython",
    "version": 3
   },
   "file_extension": ".py",
   "mimetype": "text/x-python",
   "name": "python",
   "nbconvert_exporter": "python",
   "pygments_lexer": "ipython3",
   "version": "3.11.7"
  }
 },
 "nbformat": 4,
 "nbformat_minor": 5
}
