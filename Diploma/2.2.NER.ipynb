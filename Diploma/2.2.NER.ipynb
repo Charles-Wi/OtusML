{
 "cells": [
  {
   "cell_type": "markdown",
   "metadata": {},
   "source": [
    "# NER модель \n",
    "# для удаления названий компаний из текстов\n",
    "\n",
    "Названия компаний, в основном, это идентификаторы на которых переобучается модель. Разработаем автоматический фильтр названий компаний для предобработки набора данных.\n",
    "\n",
    "Модель основана на эвристрических правилах обработки текстовых строк."
   ]
  },
  {
   "cell_type": "code",
   "execution_count": 19,
   "metadata": {},
   "outputs": [],
   "source": [
    "import re\n",
    "\n",
    "class NERFilter:\n",
    "    def __init__(self):\n",
    "        self._lowFreqWords = []\n",
    "\n",
    "    # Удаляем подстроки с большой буквы внутри кавычек «»\n",
    "    def _ruleDoubleAngleQuotation(self, s):\n",
    "        result = s\n",
    "        pattern = '[ (]«[А-ЯЁA-Z][^«»]*»'\n",
    "        matches = re.findall(pattern, s)\n",
    "\n",
    "        for m in matches:\n",
    "            result = result.replace(m, '')\n",
    "\n",
    "        return result\n",
    "    \n",
    "    # Удаляем низкочастотные подстроки с большой буквы\n",
    "    def _ruleLowFreqsWithCaps(self, s):\n",
    "        result = []\n",
    "        for w in s.split(' '):\n",
    "            if w not in self._lowFreqWords:\n",
    "                result.append(w)\n",
    "\n",
    "        return ' '.join(result)\n",
    "    \n",
    "     \n",
    "    def fit(self, corpus, importantWords, level = 10):\n",
    "        \"\"\"\n",
    "        Args:\n",
    "            corpus — список строк;\n",
    "            importantWords — список слов для сохранения (такие слова не будут удаляться);\n",
    "            level — уровень кол-ва появления слова в текстах, чтобы его отфильтровать \n",
    "                    (слова с большой буквы с частотностью ниже level будут удалены\n",
    "                    при вызове метода filter).\n",
    "        \"\"\"\n",
    "        freqs = {}\n",
    "\n",
    "        # Get frequencies of words:\n",
    "        for txt in corpus:\n",
    "            for w in txt.split(' '):\n",
    "                #print('\"'+w+'\"')\n",
    "                if len(w) > 1 \\\n",
    "                        and w[0].upper() == w[0] \\\n",
    "                        and w.lower() not in importantWords \\\n",
    "                        and '-' not in w:\n",
    "                    if w in freqs:\n",
    "                        freqs[w] = freqs[w] + 1\n",
    "                    else:\n",
    "                        freqs[w] = 1\n",
    "\n",
    "        # Write results:\n",
    "        \n",
    "        for k, v in freqs.items():\n",
    "            if v < level:\n",
    "                self._lowFreqWords.append(k)\n",
    "\n",
    "        return self._lowFreqWords\n",
    "    \n",
    "\n",
    "    def filter(self, s):\n",
    "        \"\"\"\n",
    "        Метод для фильтрации названий из текста.\n",
    "        \"\"\"\n",
    "        result = self._ruleDoubleAngleQuotation(s)\n",
    "        result = self._ruleLowFreqsWithCaps(result)\n",
    "        return result.replace('  ', ' ')"
   ]
  },
  {
   "cell_type": "code",
   "execution_count": 20,
   "metadata": {},
   "outputs": [
    {
     "data": {
      "text/plain": [
       "'it - один из крупных игроков российского IT-рынка разработчик экосистемы корпоративных коммуникаций В экосистему входят: корпоративный мессенджер платформа видеоконференцсвязи облачная платформа видеоконференцсвязи помощник основанный на технологии искусственного интеллекта GPT система управления и мониторинга сервер корпоративной телефонии серия IP-телефонов видеотерминалы и пограничный контроллер сессий и другие продукты.'"
      ]
     },
     "execution_count": 20,
     "metadata": {},
     "output_type": "execute_result"
    }
   ],
   "source": [
    "txt = \"IVAT it  IVA Technologies - один из крупных игроков российского IT-рынка разработчик экосистемы корпоративных коммуникаций IVA.  В экосистему IVA входят: корпоративный мессенджер IVA Connect платформа видеоконференцсвязи IVA MCU облачная платформа видеоконференцсвязи «ВКурсе» помощник основанный на технологии искусственного интеллекта IVA GPT система управления и мониторинга IVA MS сервер корпоративной телефонии IVA CS серия IP-телефонов видеотерминалы IVA Room и IVA Largo пограничный контроллер сессий IVA SBC и другие продукты.\"\n",
    "corpus = [txt,]\n",
    "importantWords = ['gpt',]\n",
    "\n",
    "nerModel = NERFilter()\n",
    "nerModel.fit(corpus, importantWords, level = 15)\n",
    "nerModel.filter(txt)\n"
   ]
  },
  {
   "cell_type": "markdown",
   "metadata": {},
   "source": [
    "Мы получили NER модель, которую можно использовать для предобработки текстов описаний компаний в развитом ПО, которое будет использовать ML модель."
   ]
  }
 ],
 "metadata": {
  "kernelspec": {
   "display_name": "base",
   "language": "python",
   "name": "python3"
  },
  "language_info": {
   "codemirror_mode": {
    "name": "ipython",
    "version": 3
   },
   "file_extension": ".py",
   "mimetype": "text/x-python",
   "name": "python",
   "nbconvert_exporter": "python",
   "pygments_lexer": "ipython3",
   "version": "3.12.4"
  }
 },
 "nbformat": 4,
 "nbformat_minor": 2
}
