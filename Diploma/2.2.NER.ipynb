{
 "cells": [
  {
   "cell_type": "markdown",
   "metadata": {},
   "source": [
    "# NER модель \n",
    "# для удаления названий компаний из текстов\n",
    "\n",
    "Названия компаний, в основном, это идентификаторы на которых переобучается модель. Разработаем автоматический фильтр названий компаний для предобработки набора данных.\n",
    "\n",
    "Сделаем объединение результатов с двух моделей: эвристической и BERT.\n",
    "\n",
    "## Модель1 Эвристические правила\n",
    "\n",
    "Простая модель основана на эвристрических правилах обработки текстовых строк."
   ]
  },
  {
   "cell_type": "code",
   "execution_count": 49,
   "metadata": {},
   "outputs": [],
   "source": [
    "import re\n",
    "\n",
    "class NERFilter:\n",
    "    def __init__(self):\n",
    "        self._lowFreqWords = []\n",
    "\n",
    "    # Удаляем подстроки с большой буквы внутри кавычек «»\n",
    "    def _ruleDoubleAngleQuotation(self, s, do_filter = True):\n",
    "        result = s\n",
    "        pattern = '[ (]«[А-ЯЁA-Z][^«»]*»'\n",
    "        matches = re.findall(pattern, s)\n",
    "\n",
    "        if do_filter:\n",
    "            for m in matches:\n",
    "                result = result.replace(m, '')\n",
    "\n",
    "            return result\n",
    "        else:\n",
    "            return matches\n",
    "    \n",
    "    # Удаляем низкочастотные подстроки с большой буквы\n",
    "    def _ruleLowFreqsWithCaps(self, s):\n",
    "        result = []\n",
    "        for w in s.split(' '):\n",
    "            if w not in self._lowFreqWords:\n",
    "                result.append(w)\n",
    "\n",
    "        return ' '.join(result)\n",
    "    \n",
    "     \n",
    "    def fit(self, corpus, importantWords, level = 10):\n",
    "        \"\"\"\n",
    "        Args:\n",
    "            corpus — список строк;\n",
    "            importantWords — список слов для сохранения (такие слова не будут удаляться);\n",
    "            level — уровень кол-ва появления слова в текстах, чтобы его отфильтровать \n",
    "                    (слова с большой буквы с частотностью ниже level будут удалены\n",
    "                    при вызове метода filter).\n",
    "        \"\"\"\n",
    "        freqs = {}\n",
    "\n",
    "        # Get frequencies of words:\n",
    "        for txt in corpus:\n",
    "            for w in txt.split(' '):\n",
    "                #print('\"'+w+'\"')\n",
    "                if len(w) > 1 \\\n",
    "                        and w[0].upper() == w[0] \\\n",
    "                        and w.lower() not in importantWords \\\n",
    "                        and '-' not in w:\n",
    "                    if w in freqs:\n",
    "                        freqs[w] = freqs[w] + 1\n",
    "                    else:\n",
    "                        freqs[w] = 1\n",
    "\n",
    "        # Write results:\n",
    "        \n",
    "        for k, v in freqs.items():\n",
    "            if v < level:\n",
    "                self._lowFreqWords.append(k)\n",
    "\n",
    "        return self._lowFreqWords\n",
    "    \n",
    "\n",
    "    def filter(self, s):\n",
    "        \"\"\"\n",
    "        Метод для фильтрации названий из текста.\n",
    "        \"\"\"\n",
    "        result = self._ruleDoubleAngleQuotation(s)\n",
    "        result = self._ruleLowFreqsWithCaps(result)\n",
    "        return result.replace('  ', ' ')\n",
    "    \n",
    "    def get_ner_results(self, s):\n",
    "        results = {}\n",
    "\n",
    "        for m in self._ruleDoubleAngleQuotation(s, False):\n",
    "            results[m] = True\n",
    "\n",
    "        for w in self._lowFreqWords:\n",
    "            results[w] = True\n",
    "    \n",
    "        return list(map(lambda it: (it, -1, -1), results))"
   ]
  },
  {
   "cell_type": "code",
   "execution_count": 4,
   "metadata": {},
   "outputs": [],
   "source": [
    "txt = \"IVAT it  IVA Technologies - один из крупных игроков российского IT-рынка разработчик экосистемы корпоративных коммуникаций IVA.  В экосистему IVA входят: корпоративный мессенджер IVA Connect платформа видеоконференцсвязи IVA MCU облачная платформа видеоконференцсвязи «ВКурсе» помощник основанный на технологии искусственного интеллекта IVA GPT система управления и мониторинга IVA MS сервер корпоративной телефонии IVA CS серия IP-телефонов видеотерминалы IVA Room и IVA Largo пограничный контроллер сессий IVA SBC и другие продукты.\""
   ]
  },
  {
   "cell_type": "code",
   "execution_count": 50,
   "metadata": {},
   "outputs": [
    {
     "name": "stdout",
     "output_type": "stream",
     "text": [
      "Entities:\n",
      " [(' «ВКурсе»', -1, -1), ('IVAT', -1, -1), ('IVA', -1, -1), ('Technologies', -1, -1), ('IVA.', -1, -1), ('Connect', -1, -1), ('MCU', -1, -1), ('«ВКурсе»', -1, -1), ('MS', -1, -1), ('CS', -1, -1), ('Room', -1, -1), ('Largo', -1, -1), ('SBC', -1, -1)]\n",
      "Filtered text:\n",
      " it - один из крупных игроков российского IT-рынка разработчик экосистемы корпоративных коммуникаций В экосистему входят: корпоративный мессенджер платформа видеоконференцсвязи облачная платформа видеоконференцсвязи помощник основанный на технологии искусственного интеллекта GPT система управления и мониторинга сервер корпоративной телефонии серия IP-телефонов видеотерминалы и пограничный контроллер сессий и другие продукты.\n"
     ]
    }
   ],
   "source": [
    "corpus = [txt,]\n",
    "importantWords = ['gpt',]\n",
    "\n",
    "nerModel = NERFilter()\n",
    "nerModel.fit(corpus, importantWords, level = 15)\n",
    "heuristic_results = nerModel.get_ner_results(txt)\n",
    "print('Entities:\\n', heuristic_results)\n",
    "print('Filtered text:\\n', nerModel.filter(txt))\n"
   ]
  },
  {
   "cell_type": "markdown",
   "metadata": {},
   "source": [
    "Мы получили NER модель, которую можно использовать для предобработки текстов описаний компаний в развитом ПО, которое будет использовать ML модель."
   ]
  },
  {
   "cell_type": "markdown",
   "metadata": {},
   "source": [
    "## Модель2 NER BERT\n",
    "\n",
    "Используем предобученную модель BERT based: https://huggingface.co/webmichaelnosenko/rust-bert-base-NER"
   ]
  },
  {
   "cell_type": "code",
   "execution_count": 1,
   "metadata": {},
   "outputs": [],
   "source": [
    "from transformers import pipeline"
   ]
  },
  {
   "cell_type": "code",
   "execution_count": 51,
   "metadata": {},
   "outputs": [
    {
     "name": "stderr",
     "output_type": "stream",
     "text": [
      "Some weights of the model checkpoint at webmichaelnosenko/rust-bert-base-NER were not used when initializing BertForTokenClassification: ['bert.pooler.dense.bias', 'bert.pooler.dense.weight']\n",
      "- This IS expected if you are initializing BertForTokenClassification from the checkpoint of a model trained on another task or with another architecture (e.g. initializing a BertForSequenceClassification model from a BertForPreTraining model).\n",
      "- This IS NOT expected if you are initializing BertForTokenClassification from the checkpoint of a model that you expect to be exactly identical (initializing a BertForSequenceClassification model from a BertForSequenceClassification model).\n"
     ]
    },
    {
     "name": "stdout",
     "output_type": "stream",
     "text": [
      "{'entity': 'B-ORG', 'score': 0.9943851, 'index': 4, 'word': 'IV', 'start': 9, 'end': 11}\n",
      "{'entity': 'I-ORG', 'score': 0.99040914, 'index': 5, 'word': '##A', 'start': 11, 'end': 12}\n",
      "{'entity': 'I-ORG', 'score': 0.9776227, 'index': 6, 'word': 'Technologies', 'start': 13, 'end': 25}\n",
      "{'entity': 'I-ORG', 'score': 0.9517372, 'index': 89, 'word': 'IV', 'start': 123, 'end': 125}\n",
      "{'entity': 'I-ORG', 'score': 0.8818024, 'index': 90, 'word': '##A', 'start': 125, 'end': 126}\n",
      "{'entity': 'B-ORG', 'score': 0.679242, 'index': 103, 'word': 'IV', 'start': 142, 'end': 144}\n",
      "{'entity': 'I-ORG', 'score': 0.6667436, 'index': 104, 'word': '##A', 'start': 144, 'end': 145}\n",
      "{'entity': 'B-ORG', 'score': 0.63552064, 'index': 339, 'word': 'IP', 'start': 429, 'end': 431}\n",
      "{'entity': 'I-ORG', 'score': 0.6018182, 'index': 363, 'word': '##A', 'start': 459, 'end': 460}\n",
      "{'entity': 'B-ORG', 'score': 0.83839786, 'index': 366, 'word': 'IV', 'start': 468, 'end': 470}\n",
      "{'entity': 'I-ORG', 'score': 0.6148589, 'index': 367, 'word': '##A', 'start': 470, 'end': 471}\n",
      "Entities:\n",
      " [('IVA', 9, 11), ('Technologies', 13, 24), ('IVA', 123, 125), ('IVA', 142, 144), ('IP', 429, 430), ('A', 459, 459), ('IVA', 468, 470)]\n",
      "Filtered text:\n",
      " IVAT it    - один из крупных игроков российского IT-рынка разработчик экосистемы корпоративных коммуникаций .  В экосистему  входят: корпоративный мессенджер IVA Connect платформа видеоконференцсвязи IVA MCU облачная платформа видеоконференцсвязи «ВКурсе» помощник основанный на технологии искусственного интеллекта IVA GPT система управления и мониторинга IVA MS сервер корпоративной телефонии IVA CS серия -телефонов видеотерминалы IV Room и  Largo пограничный контроллер сессий IVA SBC и другие продукты.\n"
     ]
    }
   ],
   "source": [
    "def join_results(bert_results, txt):\n",
    "    results = []\n",
    "\n",
    "    if len(bert_results) > 0:\n",
    "        start = bert_results[0]['start']\n",
    "        end = bert_results[0]['end']\n",
    "        for result in bert_results:\n",
    "            if result['start'] - end > 1:\n",
    "                results.append((txt[start:end + 1], start, end))\n",
    "                start = result['start']\n",
    "            \n",
    "            if txt[result['end']].isalpha():\n",
    "                end = result['end']\n",
    "            else:\n",
    "                end = result['end'] - 1\n",
    "\n",
    "        results.append((txt[start:end + 1], start, end))\n",
    "\n",
    "    return results\n",
    "\n",
    "\n",
    "def get_bert_results(txt, level_score, verbose = True):\n",
    "    ner_pipe = pipeline(\"ner\", model=\"webmichaelnosenko/rust-bert-base-NER\", device='cuda')\n",
    "\n",
    "    results = ner_pipe(txt)\n",
    "\n",
    "    results = list(filter(lambda it: it['score'] > level and 'ORG' in it['entity'], results))\n",
    "\n",
    "    if verbose:\n",
    "        for result in results:\n",
    "                print(result)\n",
    "\n",
    "    processed_results = join_results(results, txt)\n",
    "\n",
    "    return processed_results\n",
    "\n",
    "\n",
    "def filter_by_bert_ner_results(ner_results, txt):\n",
    "    result = list(txt)\n",
    "    null_character = ''\n",
    "\n",
    "    for it in ner_results:\n",
    "        for i in range(it[1], it[2] + 1):\n",
    "             result[i] = null_character\n",
    "\n",
    "    result = \"\".join(result).replace(null_character, '')\n",
    "    return result\n",
    "\n",
    "\n",
    "level_score = 0.5 # Используем результаты со score больше заданного уровня.\n",
    "bert_results = get_bert_results(txt, level_score)\n",
    "print('Entities:\\n', bert_results)\n",
    "\n",
    "print('Filtered text:\\n', filter_by_bert_ner_results(bert_results, txt))"
   ]
  },
  {
   "cell_type": "markdown",
   "metadata": {},
   "source": [
    "## Объединим обе модели"
   ]
  },
  {
   "cell_type": "code",
   "execution_count": 57,
   "metadata": {},
   "outputs": [],
   "source": [
    "def combine_results(model1_results, model2_results):\n",
    "    combined_results = []\n",
    "    res1 = list(map(lambda it: it[0], model1_results))\n",
    "    res2 = list(map(lambda it: it[0], model2_results))\n",
    "\n",
    "    for it in res1:\n",
    "        if it in res2:\n",
    "            combined_results.append(it)\n",
    "\n",
    "    return combined_results\n",
    "\n",
    "\n",
    "def filter_by_combined_results(ner_results, txt):\n",
    "    result = txt\n",
    "    for it in ner_results:\n",
    "        result = result.replace(it, '')\n",
    "\n",
    "    return result"
   ]
  },
  {
   "cell_type": "code",
   "execution_count": 60,
   "metadata": {},
   "outputs": [
    {
     "name": "stdout",
     "output_type": "stream",
     "text": [
      "Entities:\n",
      " ['IVA', 'Technologies']\n",
      "Filtered text:\n",
      " T it    - один из крупных игроков российского IT-рынка разработчик экосистемы корпоративных коммуникаций .  В экосистему  входят: корпоративный мессенджер  Connect платформа видеоконференцсвязи  MCU облачная платформа видеоконференцсвязи «ВКурсе» помощник основанный на технологии искусственного интеллекта  GPT система управления и мониторинга  MS сервер корпоративной телефонии  CS серия IP-телефонов видеотерминалы  Room и  Largo пограничный контроллер сессий  SBC и другие продукты.\n"
     ]
    }
   ],
   "source": [
    "combined_results = combine_results(heuristic_results, bert_results)\n",
    "print('Entities:\\n', combined_results)\n",
    "print('Filtered text:\\n', filter_by_combined_results(combined_results, txt))"
   ]
  },
  {
   "cell_type": "markdown",
   "metadata": {},
   "source": [
    "## Выводы\n",
    "\n",
    "На прилагающемся скриншоте <a href=\"NERResults.png\">NERResults.png</a> мы видим результаты фильтрации текста из примера:\n",
    "- Слева Модель1 (работающая по эвристическим правилам). Модель агрессивно вычистила из текста не только название организации, но и все названия продуктов, но не тронула термины, например: «IP-телефонов», «IT-рынка».\n",
    "- Справа Модель2 (BERT based). Модель удалила отдельные названия компании, но оставила артефакты: в названиях продуктов содержится и название компании, например: «IVA Connect». Также, модель удалила термин \"IP-\".\n",
    "- В середине комбинированные результаты. Результаты сбалансированные: удалены все упоминания компании, но остались термины и названия продуктов.\n",
    "\n",
    "Пользователь может выбрать нужный вариант NER модели в зависимости от требований к производительности решения."
   ]
  }
 ],
 "metadata": {
  "kernelspec": {
   "display_name": "base",
   "language": "python",
   "name": "python3"
  },
  "language_info": {
   "codemirror_mode": {
    "name": "ipython",
    "version": 3
   },
   "file_extension": ".py",
   "mimetype": "text/x-python",
   "name": "python",
   "nbconvert_exporter": "python",
   "pygments_lexer": "ipython3",
   "version": "3.12.4"
  }
 },
 "nbformat": 4,
 "nbformat_minor": 2
}
