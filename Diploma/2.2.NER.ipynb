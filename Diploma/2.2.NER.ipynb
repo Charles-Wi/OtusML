{
 "cells": [
  {
   "cell_type": "markdown",
   "metadata": {},
   "source": [
    "# NER модель \n",
    "# для удаления названий компаний из текстов\n",
    "\n",
    "Названия компаний, в основном, это идентификаторы на которых переобучается модель. Разработаем автоматический фильтр названий компаний для предобработки набора данных.\n",
    "\n",
    "Сделаем объединение результатов с двух моделей: эвристической и BERT."
   ]
  },
  {
   "cell_type": "code",
   "execution_count": 1,
   "metadata": {},
   "outputs": [],
   "source": [
    "%load_ext pycodestyle_magic\n",
    "%pycodestyle_on"
   ]
  },
  {
   "cell_type": "code",
   "execution_count": 2,
   "metadata": {},
   "outputs": [
    {
     "data": {
      "text/plain": [
       "'cuda'"
      ]
     },
     "execution_count": 2,
     "metadata": {},
     "output_type": "execute_result"
    }
   ],
   "source": [
    "import warnings\n",
    "from collections import namedtuple\n",
    "\n",
    "import torch\n",
    "\n",
    "warnings.filterwarnings(\"ignore\")\n",
    "\n",
    "\n",
    "NerItem = namedtuple(\"NerItem\", [\"word\", \"index_start\", \"index_end\"])\n",
    "\n",
    "DEVICE = \"cuda\" if torch.cuda.is_available() else \"cpu\"\n",
    "DEVICE"
   ]
  },
  {
   "cell_type": "code",
   "execution_count": 3,
   "metadata": {},
   "outputs": [],
   "source": [
    "TXT = \"IVAT it  IVA Technologies - один из крупных игроков российского \\\n",
    "IT-рынка разработчик экосистемы корпоративных коммуникаций IVA.  \\\n",
    "В экосистему IVA входят: корпоративный мессенджер IVA Connect \\\n",
    "платформа видеоконференцсвязи IVA MCU облачная платформа видеоконференцсвязи \\\n",
    "«ВКурсе» помощник основанный на технологии искусственного интеллекта IVA GPT \\\n",
    "система управления и мониторинга IVA MS сервер корпоративной телефонии \\\n",
    "IVA CS серия IP-телефонов видеотерминалы IVA Room и IVA Largo пограничный \\\n",
    "контроллер сессий IVA SBC и другие продукты.\""
   ]
  },
  {
   "cell_type": "markdown",
   "metadata": {},
   "source": [
    "## Модель1 Эвристические правила\n",
    "\n",
    "Простая модель основана на эвристрических правилах обработки текстовых строк."
   ]
  },
  {
   "cell_type": "code",
   "execution_count": 4,
   "metadata": {},
   "outputs": [],
   "source": [
    "import re\n",
    "\n",
    "\n",
    "class NERFilter:\n",
    "    \"\"\"Heuristics NER Model\"\"\"\n",
    "\n",
    "    def __init__(self):\n",
    "        self._low_freq_words = []\n",
    "\n",
    "    # Удаляем подстроки с большой буквы внутри кавычек «»\n",
    "    def _rule_double_angle_quotation(self, s, do_filter=True):\n",
    "        result = s\n",
    "        pattern = '[ (]«[А-ЯЁA-Z][^«»]*»'\n",
    "        matches = re.findall(pattern, s)\n",
    "\n",
    "        if do_filter:\n",
    "            for m in matches:\n",
    "                result = result.replace(m, '')\n",
    "\n",
    "            return result\n",
    "\n",
    "        return matches\n",
    "\n",
    "    # Удаляем низкочастотные подстроки с большой буквы\n",
    "    def _rule_low_freqs_with_caps(self, s):\n",
    "        result = []\n",
    "        for w in s.split(' '):\n",
    "            if w not in self._low_freq_words:\n",
    "                result.append(w)\n",
    "\n",
    "        return ' '.join(result)\n",
    "\n",
    "    def fit(self, corpus, important_words, level=10):\n",
    "        \"\"\"\n",
    "        Args:\n",
    "            corpus — список строк;\n",
    "            importantWords — список слов для сохранения\n",
    "                    (такие слова не будут удаляться);\n",
    "            level — уровень кол-ва появления слова в текстах,\n",
    "                    чтобы его отфильтровать\n",
    "                    (слова с большой буквы с частотностью ниже level\n",
    "                    будут удалены при вызове метода filter).\n",
    "        \"\"\"\n",
    "        freqs = {}\n",
    "\n",
    "        # Get frequencies of words:\n",
    "        for txt in corpus:\n",
    "            for w in txt.split(' '):\n",
    "                # print('\"'+w+'\"')\n",
    "                if len(w) > 1 \\\n",
    "                        and w[0].upper() == w[0] \\\n",
    "                        and w.lower() not in important_words \\\n",
    "                        and '-' not in w:\n",
    "                    if w in freqs:\n",
    "                        freqs[w] = freqs[w] + 1\n",
    "                    else:\n",
    "                        freqs[w] = 1\n",
    "\n",
    "        # Write results:\n",
    "\n",
    "        for k, v in freqs.items():\n",
    "            if v < level:\n",
    "                self._low_freq_words.append(k)\n",
    "\n",
    "        return self._low_freq_words\n",
    "\n",
    "    def filter(self, s):\n",
    "        \"\"\"\n",
    "        Метод для фильтрации названий из текста.\n",
    "        \"\"\"\n",
    "        result = self._rule_double_angle_quotation(s)\n",
    "        result = self._rule_low_freqs_with_caps(result)\n",
    "        return result.replace('  ', ' ')\n",
    "\n",
    "    def get_ner_results(self, s):\n",
    "        \"\"\"\n",
    "        Метод для получения результатов анализа NER.\n",
    "        \"\"\"\n",
    "        results = {}\n",
    "\n",
    "        for m in self._rule_double_angle_quotation(s, False):\n",
    "            results[m] = True\n",
    "\n",
    "        for w in self._low_freq_words:\n",
    "            results[w] = True\n",
    "\n",
    "        return list(map(lambda it: NerItem(it, -1, -1), results))"
   ]
  },
  {
   "cell_type": "code",
   "execution_count": 5,
   "metadata": {},
   "outputs": [
    {
     "name": "stdout",
     "output_type": "stream",
     "text": [
      "Entities:\n",
      " [NerItem(word=' «ВКурсе»', index_start=-1, index_end=-1), NerItem(word='IVAT', index_start=-1, index_end=-1), NerItem(word='IVA', index_start=-1, index_end=-1), NerItem(word='Technologies', index_start=-1, index_end=-1), NerItem(word='IVA.', index_start=-1, index_end=-1), NerItem(word='Connect', index_start=-1, index_end=-1), NerItem(word='MCU', index_start=-1, index_end=-1), NerItem(word='«ВКурсе»', index_start=-1, index_end=-1), NerItem(word='MS', index_start=-1, index_end=-1), NerItem(word='CS', index_start=-1, index_end=-1), NerItem(word='Room', index_start=-1, index_end=-1), NerItem(word='Largo', index_start=-1, index_end=-1), NerItem(word='SBC', index_start=-1, index_end=-1)]\n",
      "Filtered text:\n",
      " it - один из крупных игроков российского IT-рынка разработчик экосистемы корпоративных коммуникаций В экосистему входят: корпоративный мессенджер платформа видеоконференцсвязи облачная платформа видеоконференцсвязи помощник основанный на технологии искусственного интеллекта GPT система управления и мониторинга сервер корпоративной телефонии серия IP-телефонов видеотерминалы и пограничный контроллер сессий и другие продукты.\n"
     ]
    }
   ],
   "source": [
    "corpus_example = [TXT,]\n",
    "important_words_example = ['gpt',]\n",
    "\n",
    "model_ner = NERFilter()\n",
    "model_ner.fit(corpus_example, important_words_example, level=15)\n",
    "heuristic_ner_results = model_ner.get_ner_results(TXT)\n",
    "print('Entities:\\n', heuristic_ner_results)\n",
    "print('Filtered text:\\n', model_ner.filter(TXT))"
   ]
  },
  {
   "cell_type": "markdown",
   "metadata": {},
   "source": [
    "Мы получили NER модель, которую можно использовать для предобработки текстов описаний компаний в развитом ПО, которое будет использовать ML модель."
   ]
  },
  {
   "cell_type": "markdown",
   "metadata": {},
   "source": [
    "## Модель2 NER BERT\n",
    "\n",
    "Используем предобученную модель BERT based: https://huggingface.co/webmichaelnosenko/rust-bert-base-NER"
   ]
  },
  {
   "cell_type": "code",
   "execution_count": 6,
   "metadata": {},
   "outputs": [],
   "source": [
    "from transformers import pipeline"
   ]
  },
  {
   "cell_type": "code",
   "execution_count": 7,
   "metadata": {},
   "outputs": [
    {
     "name": "stderr",
     "output_type": "stream",
     "text": [
      "Some weights of the model checkpoint at H:\\Инструменты\\Windows\\AI DataAnalysis ML NER etc\\NER\\2024 предобученный BERT NER - webmichaelnosenko - rust-bert-base-NER were not used when initializing BertForTokenClassification: ['bert.pooler.dense.bias', 'bert.pooler.dense.weight']\n",
      "- This IS expected if you are initializing BertForTokenClassification from the checkpoint of a model trained on another task or with another architecture (e.g. initializing a BertForSequenceClassification model from a BertForPreTraining model).\n",
      "- This IS NOT expected if you are initializing BertForTokenClassification from the checkpoint of a model that you expect to be exactly identical (initializing a BertForSequenceClassification model from a BertForSequenceClassification model).\n",
      "Device set to use cuda\n",
      "3:61: W291 trailing whitespace\n"
     ]
    },
    {
     "name": "stdout",
     "output_type": "stream",
     "text": [
      "{'entity': 'B-ORG', 'score': np.float32(0.9943851), 'index': 4, 'word': 'IV', 'start': 9, 'end': 11}\n",
      "{'entity': 'I-ORG', 'score': np.float32(0.99040914), 'index': 5, 'word': '##A', 'start': 11, 'end': 12}\n",
      "{'entity': 'I-ORG', 'score': np.float32(0.9776227), 'index': 6, 'word': 'Technologies', 'start': 13, 'end': 25}\n",
      "{'entity': 'I-ORG', 'score': np.float32(0.9517372), 'index': 89, 'word': 'IV', 'start': 123, 'end': 125}\n",
      "{'entity': 'I-ORG', 'score': np.float32(0.8818024), 'index': 90, 'word': '##A', 'start': 125, 'end': 126}\n",
      "{'entity': 'B-ORG', 'score': np.float32(0.679242), 'index': 103, 'word': 'IV', 'start': 142, 'end': 144}\n",
      "{'entity': 'I-ORG', 'score': np.float32(0.6667436), 'index': 104, 'word': '##A', 'start': 144, 'end': 145}\n",
      "{'entity': 'B-ORG', 'score': np.float32(0.63552064), 'index': 339, 'word': 'IP', 'start': 429, 'end': 431}\n",
      "{'entity': 'I-ORG', 'score': np.float32(0.6018182), 'index': 363, 'word': '##A', 'start': 459, 'end': 460}\n",
      "{'entity': 'B-ORG', 'score': np.float32(0.83839786), 'index': 366, 'word': 'IV', 'start': 468, 'end': 470}\n",
      "{'entity': 'I-ORG', 'score': np.float32(0.6148589), 'index': 367, 'word': '##A', 'start': 470, 'end': 471}\n",
      "Entities:\n",
      " [NerItem(word='IVA', index_start=9, index_end=11), NerItem(word='Technologies', index_start=13, index_end=24), NerItem(word='IVA', index_start=123, index_end=125), NerItem(word='IVA', index_start=142, index_end=144), NerItem(word='IP', index_start=429, index_end=430), NerItem(word='A', index_start=459, index_end=459), NerItem(word='IVA', index_start=468, index_end=470)]\n",
      "Filtered text:\n",
      " IVAT it    - один из крупных игроков российского IT-рынка разработчик экосистемы корпоративных коммуникаций .  В экосистему  входят: корпоративный мессенджер IVA Connect платформа видеоконференцсвязи IVA MCU облачная платформа видеоконференцсвязи «ВКурсе» помощник основанный на технологии искусственного интеллекта IVA GPT система управления и мониторинга IVA MS сервер корпоративной телефонии IVA CS серия -телефонов видеотерминалы IV Room и  Largo пограничный контроллер сессий IVA SBC и другие продукты.\n"
     ]
    }
   ],
   "source": [
    "def join_results(bert_results, txt):\n",
    "    \"\"\"\n",
    "    Функция для объединения результатов infer от модели BERT \n",
    "    в законченные слова.\n",
    "    \"\"\"\n",
    "    results = []\n",
    "\n",
    "    if len(bert_results) > 0:\n",
    "        start = bert_results[0]['start']\n",
    "        end = bert_results[0]['end']\n",
    "        for result in bert_results:\n",
    "            if result['start'] - end > 1:\n",
    "                results.append(NerItem(txt[start:end + 1], start, end))\n",
    "                start = result['start']\n",
    "\n",
    "            if txt[result['end']].isalpha():\n",
    "                end = result['end']\n",
    "            else:\n",
    "                end = result['end'] - 1\n",
    "\n",
    "        results.append(NerItem(txt[start:end + 1], start, end))\n",
    "\n",
    "    return results\n",
    "\n",
    "\n",
    "def get_bert_results(txt, level_score, path_bert, verbose=True):\n",
    "    \"\"\"\n",
    "    Функция для получения результатов infer от модели BERT\n",
    "    \"\"\"\n",
    "    ner_pipe = pipeline(\"ner\", model=path_bert, device=DEVICE)\n",
    "\n",
    "    results = ner_pipe(txt)\n",
    "\n",
    "    results = filter(\n",
    "        lambda it: it['score'] > level_score and 'ORG' in it['entity'],\n",
    "        results\n",
    "    )\n",
    "\n",
    "    results = list(results)\n",
    "\n",
    "    if verbose:\n",
    "        for result in results:\n",
    "            print(result)\n",
    "\n",
    "    processed_results = join_results(results, txt)\n",
    "\n",
    "    return processed_results\n",
    "\n",
    "\n",
    "def filter_by_bert_ner_results(ner_results, txt):\n",
    "    \"\"\"\n",
    "    Функция для фильтрации текста с помощью результатов от BERT NER.\n",
    "    \"\"\"\n",
    "    result = list(txt)\n",
    "    null_character = chr(58368)  # null character\n",
    "\n",
    "    for ner_item in ner_results:\n",
    "        for i in range(ner_item.index_start, ner_item.index_end + 1):\n",
    "            result[i] = null_character\n",
    "\n",
    "    result = \"\".join(result).replace(null_character, '')\n",
    "    return result\n",
    "\n",
    "\n",
    "PATH_BERT = (\n",
    "    r'H:\\Инструменты\\Windows\\AI DataAnalysis ML NER etc\\NER'\n",
    "    r'\\2024 предобученный BERT NER - webmichaelnosenko - rust-bert-base-NER'\n",
    ")\n",
    "LEVEL_SCORE = 0.5  # Используем результаты со score больше заданного уровня.\n",
    "bert_ner_results = get_bert_results(TXT, LEVEL_SCORE, PATH_BERT)\n",
    "print('Entities:\\n', bert_ner_results)\n",
    "\n",
    "print('Filtered text:\\n', filter_by_bert_ner_results(bert_ner_results, TXT))"
   ]
  },
  {
   "cell_type": "markdown",
   "metadata": {},
   "source": [
    "## Модель3 NER Natasha"
   ]
  },
  {
   "cell_type": "code",
   "execution_count": 8,
   "metadata": {},
   "outputs": [],
   "source": [
    "from natasha import (\n",
    "    Segmenter,\n",
    "\n",
    "    NewsEmbedding,\n",
    "    NewsNERTagger,\n",
    "\n",
    "    Doc\n",
    ")"
   ]
  },
  {
   "cell_type": "code",
   "execution_count": 9,
   "metadata": {},
   "outputs": [],
   "source": [
    "def split_doc_span_to_ner_items(doc_span):\n",
    "    \"\"\"The function for split a DocSpan to a list of NerItem.\"\"\"\n",
    "    results = [NerItem(word, -1, -1) for word in doc_span.text.split(\" \")]\n",
    "    return results\n",
    "\n",
    "\n",
    "def get_natasha_results(txt, verbose=True):\n",
    "    \"\"\"The function for infer and get results.\"\"\"\n",
    "    results = []\n",
    "\n",
    "    emb = NewsEmbedding()\n",
    "    ner_tagger = NewsNERTagger(emb)\n",
    "    segmenter = Segmenter()\n",
    "\n",
    "    doc = Doc(txt)\n",
    "    doc.segment(segmenter)\n",
    "    doc.tag_ner(ner_tagger)\n",
    "\n",
    "    if verbose:\n",
    "        print(doc.spans[:5])\n",
    "        doc.ner.print()\n",
    "\n",
    "    for doc_span in doc.spans:\n",
    "        results += split_doc_span_to_ner_items(doc_span)\n",
    "\n",
    "    return results\n",
    "\n",
    "\n",
    "def filter_by_natasha_results(ner_results, txt):\n",
    "    \"\"\"\n",
    "    Функция для фильтрации текста с использованием результатов от NER Natasha.\n",
    "    \"\"\"\n",
    "\n",
    "    result = txt\n",
    "    for ner_item in ner_results:\n",
    "        result = result.replace(ner_item.word, \"\")\n",
    "\n",
    "    return result"
   ]
  },
  {
   "cell_type": "code",
   "execution_count": 10,
   "metadata": {},
   "outputs": [
    {
     "name": "stdout",
     "output_type": "stream",
     "text": [
      "[DocSpan(start=9, stop=25, type='ORG', text='IVA Technologies', tokens=[...]), DocSpan(start=64, stop=72, type='ORG', text='IT-рынка', tokens=[...]), DocSpan(start=123, stop=126, type='ORG', text='IVA', tokens=[...]), DocSpan(start=269, stop=275, type='ORG', text='ВКурсе', tokens=[...])]\n",
      "IVAT it  IVA Technologies - один из крупных игроков российского IT-\n",
      "         ORG─────────────                                       ORG\n",
      "рынка разработчик экосистемы корпоративных коммуникаций IVA.  В \n",
      "─────                                                   ORG     \n",
      "экосистему IVA входят: корпоративный мессенджер IVA Connect платформа \n",
      "видеоконференцсвязи IVA MCU облачная платформа видеоконференцсвязи \n",
      "«ВКурсе» помощник основанный на технологии искусственного интеллекта \n",
      " ORG───                                                              \n",
      "IVA GPT система управления и мониторинга IVA MS сервер корпоративной \n",
      "телефонии IVA CS серия IP-телефонов видеотерминалы IVA Room и IVA \n",
      "Largo пограничный контроллер сессий IVA SBC и другие продукты.\n",
      "Entities:\n",
      " [NerItem(word='IVA', index_start=-1, index_end=-1), NerItem(word='Technologies', index_start=-1, index_end=-1), NerItem(word='IT-рынка', index_start=-1, index_end=-1), NerItem(word='IVA', index_start=-1, index_end=-1), NerItem(word='ВКурсе', index_start=-1, index_end=-1)]\n",
      "Filtered text:\n",
      " T it    - один из крупных игроков российского  разработчик экосистемы корпоративных коммуникаций .  В экосистему  входят: корпоративный мессенджер  Connect платформа видеоконференцсвязи  MCU облачная платформа видеоконференцсвязи «» помощник основанный на технологии искусственного интеллекта  GPT система управления и мониторинга  MS сервер корпоративной телефонии  CS серия IP-телефонов видеотерминалы  Room и  Largo пограничный контроллер сессий  SBC и другие продукты.\n"
     ]
    }
   ],
   "source": [
    "natasha_ner_results = get_natasha_results(TXT)\n",
    "print('Entities:\\n', natasha_ner_results)\n",
    "print('Filtered text:\\n', filter_by_natasha_results(natasha_ner_results, TXT))"
   ]
  },
  {
   "cell_type": "markdown",
   "metadata": {},
   "source": [
    "## Объединим модели\n",
    "Применим принцип голосования."
   ]
  },
  {
   "cell_type": "code",
   "execution_count": 11,
   "metadata": {},
   "outputs": [],
   "source": [
    "def combine_results_2(model1_results, model2_results):\n",
    "    \"\"\"\n",
    "    Функция объединяет результаты двух моделей.\n",
    "    \"\"\"\n",
    "\n",
    "    combined_results = []\n",
    "    res1 = list(map(lambda it: it.word, model1_results))\n",
    "    res2 = list(map(lambda it: it.word, model2_results))\n",
    "\n",
    "    for it in res1:\n",
    "        if it in res2:\n",
    "            combined_results.append(it)\n",
    "\n",
    "    return combined_results\n",
    "\n",
    "\n",
    "def combine_results_3(model1_results, model2_results, model3_results):\n",
    "    \"\"\"\n",
    "    Функция объединяет результаты трёх моделей.\n",
    "    \"\"\"\n",
    "\n",
    "    combined_results_from_2_models = combine_results_2(model1_results,\n",
    "                                                       model2_results)\n",
    "\n",
    "    results_from_2_models = list(map(lambda it: NerItem(it, -1, -1),\n",
    "                                     combined_results_from_2_models))\n",
    "\n",
    "    combined_results = combine_results_2(results_from_2_models, model3_results)\n",
    "    return combined_results\n",
    "\n",
    "\n",
    "def filter_by_combined_results(ner_results_as_list_of_words, txt):\n",
    "    \"\"\"\n",
    "    Функция для фильтрации текста с использованием результатов от NER моделей.\n",
    "    \"\"\"\n",
    "\n",
    "    result = txt\n",
    "    for word in ner_results_as_list_of_words:\n",
    "        result = result.replace(word, '')\n",
    "\n",
    "    return result"
   ]
  },
  {
   "cell_type": "markdown",
   "metadata": {},
   "source": [
    "### Эвристическая модель + BERT NER"
   ]
  },
  {
   "cell_type": "code",
   "execution_count": 12,
   "metadata": {},
   "outputs": [
    {
     "name": "stdout",
     "output_type": "stream",
     "text": [
      "Entities:\n",
      " ['IVA', 'Technologies']\n",
      "Filtered text:\n",
      " T it    - один из крупных игроков российского IT-рынка разработчик экосистемы корпоративных коммуникаций .  В экосистему  входят: корпоративный мессенджер  Connect платформа видеоконференцсвязи  MCU облачная платформа видеоконференцсвязи «ВКурсе» помощник основанный на технологии искусственного интеллекта  GPT система управления и мониторинга  MS сервер корпоративной телефонии  CS серия IP-телефонов видеотерминалы  Room и  Largo пограничный контроллер сессий  SBC и другие продукты.\n"
     ]
    }
   ],
   "source": [
    "combined_ner_results = combine_results_2(heuristic_ner_results,\n",
    "                                         bert_ner_results)\n",
    "\n",
    "print('Entities:\\n', combined_ner_results)\n",
    "print('Filtered text:\\n', filter_by_combined_results(combined_ner_results,\n",
    "                                                     TXT))"
   ]
  },
  {
   "cell_type": "markdown",
   "metadata": {},
   "source": [
    "### Эвристическая модель + Natasha NER"
   ]
  },
  {
   "cell_type": "code",
   "execution_count": 13,
   "metadata": {},
   "outputs": [
    {
     "name": "stdout",
     "output_type": "stream",
     "text": [
      "Entities:\n",
      " ['IVA', 'Technologies']\n",
      "Filtered text:\n",
      " T it    - один из крупных игроков российского IT-рынка разработчик экосистемы корпоративных коммуникаций .  В экосистему  входят: корпоративный мессенджер  Connect платформа видеоконференцсвязи  MCU облачная платформа видеоконференцсвязи «ВКурсе» помощник основанный на технологии искусственного интеллекта  GPT система управления и мониторинга  MS сервер корпоративной телефонии  CS серия IP-телефонов видеотерминалы  Room и  Largo пограничный контроллер сессий  SBC и другие продукты.\n"
     ]
    }
   ],
   "source": [
    "combined_ner_results_variant2 = combine_results_2(heuristic_ner_results,\n",
    "                                                  natasha_ner_results)\n",
    "\n",
    "print('Entities:\\n', combined_ner_results_variant2)\n",
    "print('Filtered text:\\n',\n",
    "      filter_by_combined_results(combined_ner_results_variant2, TXT)\n",
    "      )"
   ]
  },
  {
   "cell_type": "markdown",
   "metadata": {},
   "source": [
    "### Эвристическая модель + BERT NER + Natasha NER"
   ]
  },
  {
   "cell_type": "code",
   "execution_count": 14,
   "metadata": {},
   "outputs": [
    {
     "name": "stdout",
     "output_type": "stream",
     "text": [
      "Entities:\n",
      " ['IVA', 'Technologies']\n",
      "Filtered text:\n",
      " T it    - один из крупных игроков российского IT-рынка разработчик экосистемы корпоративных коммуникаций .  В экосистему  входят: корпоративный мессенджер  Connect платформа видеоконференцсвязи  MCU облачная платформа видеоконференцсвязи «ВКурсе» помощник основанный на технологии искусственного интеллекта  GPT система управления и мониторинга  MS сервер корпоративной телефонии  CS серия IP-телефонов видеотерминалы  Room и  Largo пограничный контроллер сессий  SBC и другие продукты.\n"
     ]
    }
   ],
   "source": [
    "combined_ner_results_variant3 = combine_results_3(heuristic_ner_results,\n",
    "                                                  natasha_ner_results,\n",
    "                                                  bert_ner_results)\n",
    "\n",
    "print('Entities:\\n', combined_ner_results_variant3)\n",
    "print('Filtered text:\\n',\n",
    "      filter_by_combined_results(combined_ner_results_variant3, TXT)\n",
    "      )"
   ]
  },
  {
   "cell_type": "markdown",
   "metadata": {},
   "source": [
    "## Выводы\n",
    "\n",
    "На прилагающемся скриншоте <a href=\"NERResults.png\">NERResults.png</a> мы видим результаты фильтрации текста из примера:\n",
    "- Слева Модель1 (работающая по эвристическим правилам). Модель агрессивно вычистила из текста не только название организации, но и все названия продуктов, но не тронула термины, например: «IP-телефонов», «IT-рынка».\n",
    "- Справа Модель2 (BERT based). Модель удалила отдельные названия компании, но оставила артефакты: в названиях продуктов содержится и название компании, например: «IVA Connect». Также, модель удалила термин \"IP-\".\n",
    "- В середине комбинированные результаты. Результаты сбалансированные: удалены все упоминания компании, но остались термины и названия продуктов.\n",
    "- С помощью результатов от Модель3 (Natasha NER) полностью удалены упоминания названия компании в тексте, но удален также термин «IT-рынка» и название продукта «ВКурсе».\n",
    "- Комбинации моделей дали схожие результаты.\n",
    "\n",
    "Пользователь может выбрать нужный вариант NER модели или комбинацию в зависимости от требований к производительности решения."
   ]
  }
 ],
 "metadata": {
  "kernelspec": {
   "display_name": ".venv",
   "language": "python",
   "name": "python3"
  },
  "language_info": {
   "codemirror_mode": {
    "name": "ipython",
    "version": 3
   },
   "file_extension": ".py",
   "mimetype": "text/x-python",
   "name": "python",
   "nbconvert_exporter": "python",
   "pygments_lexer": "ipython3",
   "version": "3.12.8"
  }
 },
 "nbformat": 4,
 "nbformat_minor": 2
}
