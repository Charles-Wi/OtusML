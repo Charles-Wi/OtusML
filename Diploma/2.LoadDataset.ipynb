{
 "cells": [
  {
   "cell_type": "markdown",
   "metadata": {},
   "source": [
    "# Создание пользовательской категории акций\n",
    "## Загрузка данных\n",
    "Источник данных: Тинькофф брокер API.\n",
    "\n",
    "Для получения информации достаточно сгенерировать у брокера read only Bearer Token."
   ]
  },
  {
   "cell_type": "code",
   "execution_count": 1,
   "metadata": {},
   "outputs": [],
   "source": [
    "import requests\n",
    "import json\n",
    "import time\n",
    "from tqdm import tqdm"
   ]
  },
  {
   "cell_type": "code",
   "execution_count": 36,
   "metadata": {},
   "outputs": [],
   "source": [
    "DELAY = 1 # for requests, in seconds\n",
    "\n",
    "# bearerToken from Tinkoff\n",
    "bearerToken = 't.3zMPmkdCXwbvK4v48…И Т.Д. — НАДО ПОДСТАВИТЬ ДЕЙСТВУЮЩИЙ ТОКЕН'\n",
    "\n",
    "urlShares = 'https://invest-public-api.tinkoff.ru/rest/tinkoff.public.invest.api.contract.v1.InstrumentsService/Shares'\n",
    "urlGetAssetBy = 'https://invest-public-api.tinkoff.ru/rest/tinkoff.public.invest.api.contract.v1.InstrumentsService/GetAssetBy'\n",
    "\n",
    "headers = {\n",
    "    'Accept': 'application/json',\n",
    "    'Authorization': 'Bearer ' + bearerToken,\n",
    "    'Content-Type': 'application/json'\n",
    "}\n",
    "\n",
    "dataJsonForLoadShares = {\n",
    "    'instrumentStatus': 'INSTRUMENT_STATUS_UNSPECIFIED'\n",
    "}\n"
   ]
  },
  {
   "cell_type": "code",
   "execution_count": 37,
   "metadata": {},
   "outputs": [],
   "source": [
    "def saveCSVHeadersToFile(f, columns):\n",
    "    headersString = ''\n",
    "    for c in columns:\n",
    "        headersString += c + ','\n",
    "\n",
    "    headersString = headersString[:-1]\n",
    "    f.write(headersString + '\\n')\n",
    "\n",
    "\n",
    "def testShare(share):\n",
    "    if (share['countryOfRisk'] == 'RU' \n",
    "        and share['forQualInvestorFlag'] == False\n",
    "        and share['liquidityFlag'] == True\n",
    "        and share['currency'] == 'rub'):\n",
    "        return True\n",
    "\n",
    "    return False\n",
    "\n",
    "\n",
    "def postGetAssetBy(urlGetAssetBy, headers, dataJson):\n",
    "    #print('POST call:', urlGetAssetBy)\n",
    "    response = requests.post(urlGetAssetBy, headers=headers, data=json.dumps(dataJson))\n",
    "\n",
    "    if response.status_code == 200:\n",
    "        time.sleep(DELAY)\n",
    "        return response.json()['asset']\n",
    "\n",
    "    return { 'isError': True }\n",
    "\n",
    "\n",
    "def makeRequestForGetAssetBy(idAsStr):\n",
    "    return { 'id': idAsStr }\n",
    "\n",
    "def filterText(txt):\n",
    "    return txt.replace('\\n', ' ')\n",
    "\n",
    "def loadShares(urlShares, headers, dataJson, outputFileName):\n",
    "    print('POST call:', urlShares)\n",
    "    response = requests.post(urlShares, headers=headers, data=json.dumps(dataJson))\n",
    "\n",
    "    if response.status_code == 200:  # HTTP status code 200 means success\n",
    "        print('POST call is ok.')\n",
    "        # Save response to file\n",
    "        with open(outputFileName, 'w', encoding='utf-8') as fileTrain:\n",
    "                instruments = response.json().get('instruments')\n",
    "                saveCSVHeadersToFile(fileTrain, ('label', 'text'))\n",
    "\n",
    "                for it in tqdm(instruments):\n",
    "                    if (testShare(it)):\n",
    "\n",
    "                        #print(it['ticker'])\n",
    "\n",
    "                        asset = postGetAssetBy(urlGetAssetBy, \n",
    "                                               headers, \n",
    "                                               makeRequestForGetAssetBy(it['assetUid']))\n",
    "                        \n",
    "                        assetDescription = filterText(asset['description'])\n",
    "                        brandDescription = filterText(asset['brand']['description'])\n",
    "\n",
    "                        fileTrain.write('?,')\n",
    "\n",
    "                        line = it['sector'] + ' ' + assetDescription + ' ' + brandDescription\n",
    "                        line = line.replace('\"', '')\n",
    "                        fileTrain.write('\"' + line + '\"\\n')\n",
    "                        \n",
    "    else:\n",
    "        print('Error ' + str(response.status_code))\n",
    "\n",
    "    print('Data loading is finished.')"
   ]
  },
  {
   "cell_type": "code",
   "execution_count": 38,
   "metadata": {},
   "outputs": [
    {
     "name": "stdout",
     "output_type": "stream",
     "text": [
      "POST call: https://invest-public-api.tinkoff.ru/rest/tinkoff.public.invest.api.contract.v1.InstrumentsService/Shares\n",
      "POST call is ok.\n"
     ]
    },
    {
     "name": "stderr",
     "output_type": "stream",
     "text": [
      "100%|██████████| 1983/1983 [02:19<00:00, 14.25it/s]"
     ]
    },
    {
     "name": "stdout",
     "output_type": "stream",
     "text": [
      "Data loading is finished.\n"
     ]
    },
    {
     "name": "stderr",
     "output_type": "stream",
     "text": [
      "\n"
     ]
    }
   ],
   "source": [
    "loadShares(urlShares, headers, dataJsonForLoadShares, 'shares_dataset.csv')"
   ]
  },
  {
   "cell_type": "markdown",
   "metadata": {},
   "source": [
    "## Результат\n",
    "\n",
    "Набор данных сохранён в файл shares_dataset.csv, колонка label заполнена знаками вопроса для заполнения меток (1 — позитивный класс, 0 — негативный) пользователем."
   ]
  }
 ],
 "metadata": {
  "kernelspec": {
   "display_name": "base",
   "language": "python",
   "name": "python3"
  },
  "language_info": {
   "codemirror_mode": {
    "name": "ipython",
    "version": 3
   },
   "file_extension": ".py",
   "mimetype": "text/x-python",
   "name": "python",
   "nbconvert_exporter": "python",
   "pygments_lexer": "ipython3",
   "version": "3.12.4"
  }
 },
 "nbformat": 4,
 "nbformat_minor": 2
}
